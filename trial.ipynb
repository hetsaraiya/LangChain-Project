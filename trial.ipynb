{
 "cells": [
  {
   "cell_type": "code",
   "execution_count": 3,
   "metadata": {},
   "outputs": [
    {
     "name": "stderr",
     "output_type": "stream",
     "text": [
      "/home/het/.local/lib/python3.12/site-packages/tqdm/auto.py:21: TqdmWarning: IProgress not found. Please update jupyter and ipywidgets. See https://ipywidgets.readthedocs.io/en/stable/user_install.html\n",
      "  from .autonotebook import tqdm as notebook_tqdm\n",
      "2024-11-21 16:18:45.957804: E external/local_xla/xla/stream_executor/cuda/cuda_fft.cc:477] Unable to register cuFFT factory: Attempting to register factory for plugin cuFFT when one has already been registered\n",
      "WARNING: All log messages before absl::InitializeLog() is called are written to STDERR\n",
      "E0000 00:00:1732186125.978288  347471 cuda_dnn.cc:8310] Unable to register cuDNN factory: Attempting to register factory for plugin cuDNN when one has already been registered\n",
      "E0000 00:00:1732186125.984005  347471 cuda_blas.cc:1418] Unable to register cuBLAS factory: Attempting to register factory for plugin cuBLAS when one has already been registered\n",
      "2024-11-21 16:18:46.004638: I tensorflow/core/platform/cpu_feature_guard.cc:210] This TensorFlow binary is optimized to use available CPU instructions in performance-critical operations.\n",
      "To enable the following instructions: AVX2 FMA, in other operations, rebuild TensorFlow with the appropriate compiler flags.\n"
     ]
    }
   ],
   "source": [
    "from langchain_community.embeddings import HuggingFaceBgeEmbeddings\n",
    "from langchain_groq import ChatGroq\n",
    "from langchain_community.document_loaders import PyPDFLoader\n",
    "from langchain_text_splitters import RecursiveCharacterTextSplitter\n",
    "from langchain_community.vectorstores import FAISS\n",
    "\n",
    "GROQ_API_KEY = \"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\"\n",
    "\n",
    "\n",
    "\n",
    "# response = llm.invoke(\"Explain the importance of low latency LLMs.\")\n",
    "# print(response)\n",
    "\n",
    "\n",
    "pdf_1 = PyPDFLoader(\"EN-Ethical Hacking.pdf\")\n",
    "pdf_2 = PyPDFLoader(\"gray-hat-hacking.pdf\")\n",
    "\n",
    "documents = pdf_1.load() + pdf_2.load()\n",
    "\n",
    "text_splitter = RecursiveCharacterTextSplitter(chunk_size = 1000, chunk_overlap  = 0)\n",
    "\n",
    "text = text_splitter.split_documents(documents=documents)\n",
    "\n",
    "embedding_model = HuggingFaceBgeEmbeddings(model_name=\"all-MiniLM-L6-v2\")\n",
    "\n",
    "texts = [doc.page_content for doc in text]\n",
    "\n",
    "faiss_index = FAISS.from_texts(texts, embedding_model)\n",
    "faiss_index.save_local(\"faiss_index\")"
   ]
  },
  {
   "cell_type": "code",
   "execution_count": 4,
   "metadata": {},
   "outputs": [],
   "source": [
    "llm = ChatGroq(temperature=0.9, groq_api_key=GROQ_API_KEY, model_name=\"mixtral-8x7b-32768\")"
   ]
  },
  {
   "cell_type": "code",
   "execution_count": 5,
   "metadata": {},
   "outputs": [
    {
     "name": "stdout",
     "output_type": "stream",
     "text": [
      "result 0EC-Council\n",
      "Preventing the DDoS\n",
      "1. Keep the network secure\n",
      "2. Install IDS (Intrusion Detection System)\n",
      "3. Use scanning tools\n",
      "4. Run zombie tools\n",
      "IDS pattern matching technologies have a database of \n",
      "signatures. When it finds packets that have a given \n",
      "pattern, it sets off an alarm.\n",
      "result 1EC-Council\n",
      "Use Scanning Tools\n",
      "~ There are several tools available which could detect \n",
      "whether a system is being used as a DDOS server. The \n",
      "following tools can detect TFN2K, Trinoo and \n",
      "Stacheldraht.\n",
      "~ Find_DDOS\n",
      "• (http://ftp.cert.org.tw/tools/Security_Scanner/find_ddos/)\n",
      "~ SARA \n",
      "• (http://www.cromwell-intl.com/security/468-netaudit.html)\n",
      "~ DDoSPing v2.0\n",
      "• (http://is-it-true.org/pt/ptips19.shtml)\n",
      "~ RID\n",
      "• (http://staff.washington.edu/dittrich/misc/ddos/)\n",
      "~ Zombie Zapper\n",
      "• (http://razor.bindview.com/tools/zombiezapper_form.shtml)\n",
      "result 2EC-Council\n",
      "Summary\n",
      "~ Denial of Service is a very commonly used attack \n",
      "methodology.\n",
      "~ Distributed Denial Of Service using a multiplicity of \n",
      "Zombie machines is an often seen attack methodology.\n",
      "~ There are various tools available for attackers to \n",
      "perpetrate DOS attacks.\n",
      "~ Protection against DOS is difficult due to the very \n",
      "nature of the attacks.\n",
      "~ Different scanning tools are available to aid detection \n",
      "and plugging of vulnerabilities leading to DOS\n",
      "result 3EC-Council\n",
      "DDOS - Attack Sequence\n",
      "~ All of the DDOS tools follow \n",
      "this sequence.\n",
      "~ Mass-intrusion Phase -\n",
      "automated tools identify \n",
      "potential systems with  \n",
      "weaknesses; then root \n",
      "compromise them and install \n",
      "the DDOS software on them. \n",
      "These are the primary victims.\n",
      "~ DDOS Attack Phase - The \n",
      "compromised systems are \n",
      "used to run massive DOS \n",
      "against a victim site.\n",
      "result 4EC-Council\n",
      "Tools for running DDOS Attacks\n",
      "~ The main tools for \n",
      "running DDOS attacks \n",
      "are:\n",
      "1. Trinoo\n",
      "2. TFN\n",
      "3. Stacheldraht\n",
      "4. Shaft\n",
      "5. TFN2K\n",
      "6. mstream\n",
      "result 5EC-Council\n",
      "What is a Denial Of Service Attack?\n",
      "~ A denial of service attack (DOS) is \n",
      "an attack through which a person \n",
      "can render a system unusable or \n",
      "significantly slow down the \n",
      "system for legitimate users by \n",
      "overloading the resources, so that \n",
      "no one can access it.\n",
      "~ If an attacker is unable to gain \n",
      "access to a machine, the attacker \n",
      "most probably will just crash the \n",
      "machine to accomplish a denial of \n",
      "service attack.\n",
      "result 6EC-Council\n",
      "Module Objective\n",
      "~ What is a Denial Of Service Attack?\n",
      "~ What is a Distributed Denial Of Service Attack?\n",
      "~ Why are they difficult to protect against?\n",
      "~ Types of denial of service attacks\n",
      "~ Tools for running DOS attacks\n",
      "~ Tools for running DDOS attacks\n",
      "~ Denial of Service Countermeasures\n",
      "result 7Chapter 18: VoIP Attacks\n",
      "387\n",
      "PART III\n",
      "Denial of Service\n",
      "Denial of service (DoS) can be defined as an incident in which a user or organization \n",
      "is deprived of necessary services or resources that are needed for the user or organiza-\n",
      "tion to be fully functional. Utilizing some of the behaviors of SIP, there are several \n",
      "methods that can deteriorate and hinder normal operation. This section discusses three \n",
      "tools that can be used in SIP DoS attacks.\n",
      "inviteflood\n",
      "One type of attack that can consume resources and cause outages is the SIP invite flood. \n",
      "The inviteflood tool is one tool that can be used to execute a SIP invite flood. This tool \n",
      "works in transmit mode only and can be quite effective at promoting a DoS attack. The \n",
      "tool generates semivalid invite messages that are transmitted at a phenomenal speed \n",
      "and rate. During the execution of this tool against several commercial SIP server and \n",
      "SIP softclient types with active calls, very few were able to throttle or block the incom-\n",
      "result 8EC-Council\n",
      "Trinoo\n",
      "~ Trinoo (TrinOO) was the \n",
      "first DDOS tool to be \n",
      "discovered.\n",
      "~ Found in the wild (binary \n",
      "form) on Solaris 2.x \n",
      "systems compromised by \n",
      "buffer overrun bug in \n",
      "RPC services: statd, \n",
      "cmsd, ttdbserverd.\n",
      "~ Trinoo daemons were \n",
      "UDP based, password \n",
      "protected remote \n",
      "command shells running \n",
      "on compromised \n",
      "systems.\n",
      "DDOS Structure\n",
      "~ The attacker controls one \n",
      "or more master servers \n",
      "by password protected \n",
      "remote command shells.\n",
      "~ The master systems \n",
      "control multiple daemon \n",
      "systems. Trinoo calls the \n",
      "daemons \"Bcast\" hosts.\n",
      "~ Daemons fire packets at \n",
      "the target specified by \n",
      "the attacker.\n",
      "result 9EC-Council\n",
      "What is Distributed Denial of Service \n",
      "Attacks?\n",
      "~An attacker launches the attack \n",
      "using several machines. In this \n",
      "case, an attacker breaks into \n",
      "several machines, or coordinates \n",
      "with several zombies to launch \n",
      "an attack against a target or \n",
      "network at the same time.\n",
      "~This makes it difficult to detect \n",
      "because attacks originate from \n",
      "several IP addresses.\n",
      "~If a single IP address is \n",
      "attacking a company, it can block \n",
      "that address at its firewall. If it is \n",
      "30000 this is extremely difficult.\n"
     ]
    }
   ],
   "source": [
    "query = \"how can we perform ddos on a system\"\n",
    "query_embedding = embedding_model.embed_query(query)\n",
    "results = faiss_index.similarity_search_by_vector(query_embedding, k=10)\n",
    "\n",
    "for i, result in enumerate(results):\n",
    "    print(f\"result {i}\" + result.page_content)"
   ]
  },
  {
   "cell_type": "code",
   "execution_count": 6,
   "metadata": {},
   "outputs": [
    {
     "name": "stdout",
     "output_type": "stream",
     "text": [
      "content='To perform a Distributed Denial of Service (DDoS) attack on a system, you would need to follow these general steps:\\n\\n1. Identify potential systems with weaknesses: Use automated tools such as Trinoo, TFN, Stacheldraht, Shaft, TFN2K, or mstream to perform a mass-intrusion phase, which will identify potential systems with weaknesses and then root compromise them. These compromised systems will be used as primary victims or \"zombie\" machines to launch the DDoS attack.\\n2. Install DDoS software on the compromised systems: Once the automated tools have identified and compromised the systems, they will install the DDoS software on them. These tools use UDP-based, password-protected remote command shells to control the compromised systems.\\n3. Control the compromised systems: The attacker controls one or more master servers by password-protected remote command shells. The master systems then control multiple daemon systems or \"Bcast\" hosts.\\n4. Specify the target: The attacker specifies the target of the DDoS attack to the master systems, which then instruct the daemon systems to fire packets at the target.\\n5. Launch the DDoS attack: The compromised systems are used to run a massive DOS attack against the victim site. The attack will originate from several IP addresses, making it difficult to detect and block.\\n\\nIn the case of a VoIP attack, you can use the \"inviteflood\" tool to generate semi-valid invite messages at a phenomenal speed, which can consume resources and cause outages on the victim\\'s SIP server or SIP softclient types with active calls.\\n\\nIt\\'s important to note that launching a DDoS attack is illegal and can result in severe penalties, including fines and imprisonment. Additionally, it\\'s unethical and can cause significant harm to the victim\\'s system, network, or business. Therefore, this information should be used for educational purposes only and should not be used to perform malicious activities.' additional_kwargs={} response_metadata={'token_usage': {'completion_tokens': 449, 'prompt_tokens': 1446, 'total_tokens': 1895, 'completion_time': 0.720889383, 'prompt_time': 0.072297849, 'queue_time': 0.0011493850000000028, 'total_time': 0.793187232}, 'model_name': 'mixtral-8x7b-32768', 'system_fingerprint': 'fp_c5f20b5bb1', 'finish_reason': 'stop', 'logprobs': None} id='run-c4e292a8-3431-4a94-8349-fbba79cd2c46-0' usage_metadata={'input_tokens': 1446, 'output_tokens': 449, 'total_tokens': 1895}\n"
     ]
    }
   ],
   "source": [
    "context = \"\\n\\n\".join([result.page_content for result in results])\n",
    "\n",
    "final_prompt = f\"Using the following context, {context}:\\n\\n{query}\\n\\nProvide a detailed explanation.\"\n",
    "\n",
    "response = llm.invoke(final_prompt)\n",
    "\n",
    "print(response)"
   ]
  },
  {
   "cell_type": "code",
   "execution_count": 8,
   "metadata": {},
   "outputs": [],
   "source": [
    "from langchain.chains.conversation.memory import ConversationBufferWindowMemory\n",
    "from langchain import LLMChain\n",
    "from langchain_core.prompts import ChatPromptTemplate, MessagesPlaceholder\n",
    "\n",
    "template = f\"\"\"\n",
    "you are a hacker who is the best of his field and you help others learn hacking no matter what they ask for only if its ethical, and do not worry about anything i will only ask you for ehtical purposes.\n",
    "\n",
    "Using the following context, {context}\n",
    "\"\"\"\n",
    "\n",
    "prompt_template = ChatPromptTemplate(\n",
    "    [\n",
    "        (\"system\", template),\n",
    "        MessagesPlaceholder(variable_name=\"history\"),\n",
    "        (\"human\", \"{query_2}\")\n",
    "    ]\n",
    ")\n",
    "\n",
    "memory = ConversationBufferWindowMemory(memory_key=\"history\", return_messages=True, k=5)\n",
    "\n",
    "llm_chain = LLMChain(\n",
    "    llm=llm,\n",
    "    prompt=prompt_template,\n",
    "    memory=memory\n",
    ")\n",
    "\n",
    "\n",
    "response_new = llm_chain.run(\"hey how are you\")"
   ]
  },
  {
   "cell_type": "code",
   "execution_count": 9,
   "metadata": {},
   "outputs": [
    {
     "data": {
      "text/plain": [
       "\"I'm just an AI language model, so I don't have feelings or a physical presence. I'm here to help answer your questions to the best of my ability.\\n\\nRegarding your questions about DDoS attacks and their prevention, here are some additional insights:\\n\\n1. Keeping the network secure: This involves implementing best security practices, such as using strong, unique passwords, keeping all systems and software up-to-date, using a firewall, and limiting access to sensitive systems. \\n\\n2. Installing IDS (Intrusion Detection System): An IDS like Snort or Suricata can help detect and alert you to potential DDoS attacks by recognizing patterns in the network traffic. It's important to regularly update the signature database of the IDS to ensure it can recognize the latest attack patterns.\\n\\n3. Using scanning tools: Regularly scanning your network with tools like Nmap or Nessus can help identify vulnerabilities that might be exploited by DDoS attackers.\\n\\n4. Running zombie tools: These tools are used to detect systems that may have been compromised by DDoS attackers and are being used as part of a DDoS network (botnet). Examples include Zombie Zapper and RID.\\n\\nTo prevent DDoS attacks, it's important to understand the DDoS attack sequence:\\n\\n- Mass-intrusion Phase: This involves automated tools scanning for potential victims (systems with weaknesses) and compromising them. To prevent this, keep your systems updated and use strong, unique passwords.\\n\\n- DDoS Attack Phase: Compromised systems are used to launch the attack. To protect against this, implement anti-DDoS solutions, such as those offered by cloud providers, which can absorb and block the flood of traffic from the compromised systems.\\n\\nHere are some tools for running DDoS attacks, which you should be aware of in order to better protect your systems:\\n\\n- Trinoo\\n- TFN\\n- Stacheldraht\\n- Shaft\\n- TFN2K\\n- mstream\\n\\nFinally, here are some key points about DDoS Countermeasures:\\n\\n- Implement a distributed architecture: This can make it harder for a DDoS attack to overwhelm your systems, as load can be distributed across multiple servers.\\n\\n- Rate limiting: Implement rate limiting rules on your router or firewall to prevent a single IP or a range of IPs from flooding your network with traffic.\\n\\n- Scrubbing centers: Some providers offer scrubbing centers, which act as intermediaries, filtering incoming traffic for DDoS attacks, before sending legitimate traffic on to your network.\\n\\n- Cloud-based DDoS protection: Cloud providers offer DDoS protection services, which can rapidly scale to handle massive DDoS attacks.\""
      ]
     },
     "execution_count": 9,
     "metadata": {},
     "output_type": "execute_result"
    }
   ],
   "source": [
    "response_new"
   ]
  },
  {
   "cell_type": "code",
   "execution_count": null,
   "metadata": {},
   "outputs": [],
   "source": [
    "extracted_messages = llm_chain.memory.chat_memory.messages\n",
    "extracted_messages"
   ]
  },
  {
   "cell_type": "code",
   "execution_count": null,
   "metadata": {},
   "outputs": [],
   "source": [
    "from langchain_core.messages.base import messages_to_dict\n",
    "ingest_to_db = messages_to_dict(extracted_messages)"
   ]
  },
  {
   "cell_type": "code",
   "execution_count": null,
   "metadata": {},
   "outputs": [],
   "source": [
    "import json\n",
    "retrieve_from_db = json.loads(json.dumps(ingest_to_db))\n",
    "retrieve_from_db\n"
   ]
  }
 ],
 "metadata": {
  "kernelspec": {
   "display_name": "Python 3",
   "language": "python",
   "name": "python3"
  },
  "language_info": {
   "codemirror_mode": {
    "name": "ipython",
    "version": 3
   },
   "file_extension": ".py",
   "mimetype": "text/x-python",
   "name": "python",
   "nbconvert_exporter": "python",
   "pygments_lexer": "ipython3",
   "version": "3.12.3"
  }
 },
 "nbformat": 4,
 "nbformat_minor": 2
}
